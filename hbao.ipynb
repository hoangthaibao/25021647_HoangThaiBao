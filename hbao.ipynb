{
 "cells": [
  {
   "cell_type": "code",
   "id": "initial_id",
   "metadata": {
    "collapsed": true,
    "ExecuteTime": {
     "end_time": "2025-10-07T03:10:55.150554Z",
     "start_time": "2025-10-07T03:10:52.456441Z"
    }
   },
   "source": [
    "from pycparser.c_ast import Break\n",
    "\n",
    "#W4A1\n",
    "n = int(input())\n",
    "dem = 0\n",
    "for i in range(1,n + 1):\n",
    "    dem += i\n",
    "print(dem)\n",
    "\n"
   ],
   "outputs": [
    {
     "name": "stdout",
     "output_type": "stream",
     "text": [
      "0\n"
     ]
    }
   ],
   "execution_count": 27
  },
  {
   "metadata": {
    "ExecuteTime": {
     "end_time": "2025-10-07T03:14:19.191132Z",
     "start_time": "2025-10-07T03:14:17.657661Z"
    }
   },
   "cell_type": "code",
   "source": [
    " #W4A2\n",
    "import math\n",
    "dem = 0\n",
    "while True:\n",
    "    n = int (input())\n",
    "    if n > 0:\n",
    "        print(n ,'la so nguyen duong')\n",
    "        break\n",
    "    else:\n",
    "        print('vui long nhap lai')\n",
    "if n < 2:\n",
    "    print(n ,'khong phai so nguyen to')\n",
    "else:\n",
    "    for i in range(2, int(n ** 0.5) + 1):\n",
    "        if n % i == 0:\n",
    "           dem += 1\n",
    "           break\n",
    "    if dem == 0:\n",
    "        print(n ,'la so nguyen to')\n",
    "    else:\n",
    "        print(n ,'khong phai so nguyen to')\n",
    "\n"
   ],
   "id": "8870010d958bc9ab",
   "outputs": [
    {
     "name": "stdout",
     "output_type": "stream",
     "text": [
      "23 la so nguyen duong\n",
      "23 la so nguyen to\n"
     ]
    }
   ],
   "execution_count": 32
  },
  {
   "metadata": {
    "ExecuteTime": {
     "end_time": "2025-10-07T03:15:25.721597Z",
     "start_time": "2025-10-07T03:15:24.653585Z"
    }
   },
   "cell_type": "code",
   "source": [
    "#W4A3\n",
    "dem = 1\n",
    "n = int(input())\n",
    "for i in range(1, n + 1):\n",
    "    dem *=i\n",
    "print(dem)"
   ],
   "id": "e9c2d3fb6fc13395",
   "outputs": [
    {
     "name": "stdout",
     "output_type": "stream",
     "text": [
      "6\n"
     ]
    }
   ],
   "execution_count": 42
  },
  {
   "metadata": {
    "ExecuteTime": {
     "end_time": "2025-10-07T03:20:32.661646Z",
     "start_time": "2025-10-07T03:20:29.125207Z"
    }
   },
   "cell_type": "code",
   "source": [
    "#W4A4\n",
    "n = abs(int(input()))\n",
    "dem = 0\n",
    "while n % 10 != 0:\n",
    "    dem += 1\n",
    "    n //= 10\n",
    "print(dem)\n"
   ],
   "id": "319fa22dcb623fe9",
   "outputs": [
    {
     "name": "stdout",
     "output_type": "stream",
     "text": [
      "5\n"
     ]
    }
   ],
   "execution_count": 44
  },
  {
   "metadata": {
    "ExecuteTime": {
     "end_time": "2025-10-07T03:31:56.459099Z",
     "start_time": "2025-10-07T03:31:51.674322Z"
    }
   },
   "cell_type": "code",
   "source": [
    "#W4A5\n",
    "m = int(input())\n",
    "for i in range(m):\n",
    "    n = int(input())\n",
    "    if n == 42:\n",
    "        print('OK')\n",
    "        break\n"
   ],
   "id": "d07dcfb0410d7277",
   "outputs": [
    {
     "name": "stdout",
     "output_type": "stream",
     "text": [
      "OK\n"
     ]
    }
   ],
   "execution_count": 53
  },
  {
   "metadata": {},
   "cell_type": "code",
   "outputs": [],
   "execution_count": null,
   "source": [
    "#W4A6\n",
    "a, b = map(int, input().split())\n",
    "dem = 0\n",
    "i = a\n",
    "for i in range(a, b + 1):\n",
    "    if b % i == 0:\n"
   ],
   "id": "a9dba7d4341484c7"
  },
  {
   "metadata": {
    "ExecuteTime": {
     "end_time": "2025-10-07T04:01:44.917579Z",
     "start_time": "2025-10-07T04:01:42.025692Z"
    }
   },
   "cell_type": "code",
   "source": [
    "#W4A7\n",
    "n = int(input())\n",
    "for i in range(2, int((n ** 0.5)) + 1):\n",
    "    if n % i == 0:\n",
    "        while n % i == 0:\n",
    "            n //= i\n",
    "    if n == 1:\n",
    "     print(i)\n",
    "     break\n",
    "\n",
    "if n > 1:\n",
    "    print(n)"
   ],
   "id": "963b2a7e55d9c830",
   "outputs": [
    {
     "name": "stdout",
     "output_type": "stream",
     "text": [
      "2\n"
     ]
    }
   ],
   "execution_count": 83
  },
  {
   "metadata": {
    "ExecuteTime": {
     "end_time": "2025-10-07T04:14:18.072623Z",
     "start_time": "2025-10-07T04:14:15.982656Z"
    }
   },
   "cell_type": "code",
   "source": [
    "#W4A9\n",
    "n = int(input())\n",
    "if n <= 3:\n",
    "    print('no number')\n",
    "for i in range(2, n + 1):\n",
    "    b = int(i ** 0.5)\n",
    "    if b ** 2 == i:\n",
    "        print(i, end=' ')\n"
   ],
   "id": "3dbe767bbe21ea22",
   "outputs": [
    {
     "name": "stdout",
     "output_type": "stream",
     "text": [
      "4 "
     ]
    }
   ],
   "execution_count": 17
  },
  {
   "metadata": {
    "ExecuteTime": {
     "end_time": "2025-10-07T04:29:50.564Z",
     "start_time": "2025-10-07T04:29:46.702964Z"
    }
   },
   "cell_type": "code",
   "source": [
    "#4A11\n",
    "n = int(input())\n",
    "dem = 0\n",
    "for i in range(1, n+1):\n",
    "    if n % i == 0:\n",
    "        if i % 2 == 0:\n",
    "            dem += 1\n",
    "print(dem)\n"
   ],
   "id": "f10cade64675f332",
   "outputs": [
    {
     "name": "stdout",
     "output_type": "stream",
     "text": [
      "2\n"
     ]
    }
   ],
   "execution_count": 20
  },
  {
   "metadata": {
    "ExecuteTime": {
     "end_time": "2025-10-07T04:32:00.557481Z",
     "start_time": "2025-10-07T04:31:56.570880Z"
    }
   },
   "cell_type": "code",
   "source": [
    "#4A12\n",
    "x, n = map(int, input().split())\n",
    "lai = 1.007\n",
    "for i in range(n):\n",
    "    x *= lai\n",
    "print(int(x))"
   ],
   "id": "14aaba90f7cdaeb9",
   "outputs": [
    {
     "name": "stdout",
     "output_type": "stream",
     "text": [
      "10\n"
     ]
    }
   ],
   "execution_count": 22
  },
  {
   "metadata": {
    "ExecuteTime": {
     "end_time": "2025-10-07T04:35:16.733799Z",
     "start_time": "2025-10-07T04:35:12.681529Z"
    }
   },
   "cell_type": "code",
   "source": [
    "#4A13\n",
    "a, b = map(int, input().split())\n",
    "dem = 0\n",
    "dem1 = 0\n",
    "for i in range(1, a):\n",
    "    if a % i == 0:\n",
    "        dem += i\n",
    "for j in range(1, b):\n",
    "    if b % j == 0:\n",
    "        dem1 += j\n",
    "if dem == b and dem1 == a:\n",
    "    print('true')\n",
    "else:\n",
    "    print('false')\n"
   ],
   "id": "cf6e93184881cc4d",
   "outputs": [
    {
     "name": "stdout",
     "output_type": "stream",
     "text": [
      "false\n"
     ]
    }
   ],
   "execution_count": 25
  },
  {
   "metadata": {
    "ExecuteTime": {
     "end_time": "2025-10-07T04:38:58.521883Z",
     "start_time": "2025-10-07T04:38:54.677403Z"
    }
   },
   "cell_type": "code",
   "source": [
    "#4A14\n",
    "m,n = map(int, input().split())\n",
    "while n!=0:\n",
    "    m, n = n, m%n\n",
    "print(m)\n"
   ],
   "id": "5517375ec1352853",
   "outputs": [
    {
     "name": "stdout",
     "output_type": "stream",
     "text": [
      "6\n"
     ]
    }
   ],
   "execution_count": 27
  },
  {
   "metadata": {
    "ExecuteTime": {
     "end_time": "2025-10-07T04:59:38.434206Z",
     "start_time": "2025-10-07T04:59:35.057541Z"
    }
   },
   "cell_type": "code",
   "source": [
    "#4A15\n",
    "found = False\n",
    "a, b= map(int, input().split())\n",
    "for x in range(0, a):\n",
    "    for y in range(0, a):\n",
    "        if x + y == a and 2*x + 4*y == b:\n",
    "            print(x, y)\n",
    "            found = True\n",
    "            break\n",
    "if found == False:\n",
    "    print('invalid')\n",
    "\n",
    "\n",
    "\n",
    "\n",
    "\n"
   ],
   "id": "b956a5674a314a6",
   "outputs": [
    {
     "name": "stdout",
     "output_type": "stream",
     "text": [
      "22 14\n"
     ]
    }
   ],
   "execution_count": 53
  },
  {
   "metadata": {},
   "cell_type": "code",
   "outputs": [],
   "execution_count": null,
   "source": "",
   "id": "ab4ee30ea5b9510c"
  }
 ],
 "metadata": {
  "kernelspec": {
   "display_name": "Python 3",
   "language": "python",
   "name": "python3"
  },
  "language_info": {
   "codemirror_mode": {
    "name": "ipython",
    "version": 2
   },
   "file_extension": ".py",
   "mimetype": "text/x-python",
   "name": "python",
   "nbconvert_exporter": "python",
   "pygments_lexer": "ipython2",
   "version": "2.7.6"
  }
 },
 "nbformat": 4,
 "nbformat_minor": 5
}
